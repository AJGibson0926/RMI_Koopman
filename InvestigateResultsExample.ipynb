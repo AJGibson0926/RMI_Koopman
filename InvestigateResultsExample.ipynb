{
 "cells": [
  {
   "cell_type": "code",
   "execution_count": 5,
   "metadata": {},
   "outputs": [],
   "source": [
    "%matplotlib inline\n",
    "\n",
    "import glob\n",
    "import numpy as np\n",
    "import matplotlib.pyplot as plt\n",
    "import pickle\n",
    "\n",
    "exp1dict = {}\n",
    "exp1adict = {}\n",
    "\n",
    "def findBest(foldername, errDict):\n",
    "    flist = glob.glob(\"./%s/*.pkl\" % foldername)\n",
    "    print(\"number of exp: %d\" % len(flist))\n",
    "    bestTrain = 1000\n",
    "    bestTrainFile = ''\n",
    "    bestVal = 1000\n",
    "    bestValFile = ''\n",
    "    avValErr = 0\n",
    "    count = 0\n",
    "    # loop through all the .pkl files from experiments you've saved in this folder\n",
    "    for j in flist:\n",
    "        # if it's not already in the dictionary (newer than the last time you ran this cell), try to add it\n",
    "        if j not in errDict:\n",
    "            try:\n",
    "                with open(j, 'rb') as f:\n",
    "                    params = pickle.load(f, encoding='latin1')\n",
    "            except:\n",
    "                print(\"Couldn't open %s\" % j)\n",
    "                continue\n",
    "            minTrain = params['minTrain']\n",
    "            minVal = params['minTest'] # this is actually validation error\n",
    "            errDict[j] = [minTrain, minVal]\n",
    "        else:\n",
    "            minTrain = errDict[j][0]\n",
    "            minVal = errDict[j][1]\n",
    "        # track the best training error and best validation error as you go\n",
    "        if minTrain < bestTrain:\n",
    "            bestTrain = minTrain\n",
    "            bestTrainFile = j\n",
    "        if minVal < bestVal:\n",
    "            bestVal = minVal\n",
    "            bestValFile = j\n",
    "            try:\n",
    "                print(\"new best, stop condition: %s, log10(val. error) = %.12f\" % (params['stop_condition'], np.log10(bestVal)))\n",
    "            except:\n",
    "                print(\"new best, no stop condition, log10(val. error) = %.12f\" % np.log10(bestVal))\n",
    "        if not np.isnan(minVal):\n",
    "            avValErr += minVal\n",
    "            count +=1 \n",
    "    avValErr = avValErr/count\n",
    "    print()\n",
    "    print(\"best training error: %.12f \\nat %s\" % (bestTrain, bestTrainFile))\n",
    "    print()\n",
    "    print(\"best validation error: %.12f \\nat %s\" % (bestVal, bestValFile))\n",
    "    print()\n",
    "    # note that since these errors can vary by order of magnitudes, this average is probably dominated by some really bad runs\n",
    "    print(\"average val. error: %.12f\" % (avValErr))\n",
    "    return errDict"
   ]
  },
  {
   "cell_type": "code",
   "execution_count": 6,
   "metadata": {},
   "outputs": [
    {
     "name": "stdout",
     "output_type": "stream",
     "text": [
      "number of exp: 13\n",
      "new best, stop condition: past max time, log10(val. error) = -4.981262381241\n",
      "\n",
      "best training error: 0.000010386844 \n",
      "at ./output/80-80-170\\RMI_2022_07_28_13_44_45_237101_model.pkl\n",
      "\n",
      "best validation error: 0.000010440892 \n",
      "at ./output/80-80-170\\RMI_2022_07_28_13_44_45_237101_model.pkl\n",
      "\n",
      "average val. error: 0.000012924468\n"
     ]
    }
   ],
   "source": [
    "foldername = 'output/80-80-170'\n",
    "exp1dict = findBest(foldername, exp1dict)"
   ]
  },
  {
   "cell_type": "code",
   "execution_count": 7,
   "metadata": {},
   "outputs": [],
   "source": [
    "#exp1adict = findBest('exp1a', exp1adict) # can compare a different experiment (separate folders of results)"
   ]
  },
  {
   "cell_type": "code",
   "execution_count": 8,
   "metadata": {},
   "outputs": [],
   "source": [
    "# Example code if you're curious how many trials had good error (i.e. not just best run, but all the ones under\n",
    "# your \"good\" threshold\n",
    "\n",
    "flist = glob.glob(\"./%s/*.pkl\" % foldername)\n",
    "\n",
    "good = .0000001 # error that you consider pretty good\n",
    "\n",
    "for j in flist:\n",
    "    try:\n",
    "        with open(j, 'rb') as f:\n",
    "            params = pickle.load(f, encoding='latin1')            \n",
    "    except:\n",
    "        print(\"Couldn't open %s\" % j)\n",
    "        continue\n",
    "    minVal = params['minTest']\n",
    "    if minVal < good:\n",
    "        print(\"%s final: %.12f\" % (j, minVal))"
   ]
  },
  {
   "cell_type": "code",
   "execution_count": 9,
   "metadata": {},
   "outputs": [
    {
     "name": "stdout",
     "output_type": "stream",
     "text": [
      "./output/80-50-20-170\\RMI_2022_07_02_05_07_40_158952_model.pkl final:5.059E-07 \n",
      "\t20 min: 0.002253, 40 min: 0.002253, 1 hr: 0.001927, 2 hr: 0.000107, 3 hr: 0.000100, 4 hr: 0.000068\n",
      "./output/80-50-20-170\\RMI_2022_07_02_05_07_40_158954_model.pkl final:6.512E-07 \n",
      "\t20 min: 0.002249, 40 min: 0.002249, 1 hr: 0.001655, 2 hr: 0.000108, 3 hr: 0.000094, 4 hr: 0.000026\n",
      "./output/80-50-20-170\\RMI_2022_07_02_05_07_40_158974_model.pkl final:4.914E-07 \n",
      "\t20 min: 0.002432, 40 min: 0.002432, 1 hr: 0.001349, 2 hr: 0.000105, 3 hr: 0.000098, 4 hr: 0.000063\n",
      "./output/80-50-20-170\\RMI_2022_07_02_05_07_40_158975_model.pkl final:6.569E-07 \n",
      "\t20 min: 0.002381, 40 min: 0.002381, 1 hr: 0.001894, 2 hr: 0.000104, 3 hr: 0.000042, 4 hr: 0.000023\n",
      "./output/80-50-20-170\\RMI_2022_07_02_05_07_40_159392_model.pkl final:5.965E-07 \n",
      "\t20 min: 0.002302, 40 min: 0.002302, 1 hr: 0.001722, 2 hr: 0.000107, 3 hr: 0.000097, 4 hr: 0.000058\n",
      "./output/80-50-20-170\\RMI_2022_07_02_05_07_40_159844_model.pkl final:4.688E-07 \n",
      "\t20 min: 0.002444, 40 min: 0.002444, 1 hr: 0.001513, 2 hr: 0.000108, 3 hr: 0.000102, 4 hr: 0.000042\n",
      "./output/80-50-20-170\\RMI_2022_07_02_05_07_40_161020_model.pkl final:1.007E-06 \n",
      "\t20 min: 0.002199, 40 min: 0.002199, 1 hr: 0.001516, 2 hr: 0.000111, 3 hr: 0.000094, 4 hr: 0.000040\n",
      "./output/80-50-20-170\\RMI_2022_07_02_05_07_40_161578_model.pkl final:7.220E-07 \n",
      "\t20 min: 0.002236, 40 min: 0.002236, 1 hr: 0.001761, 2 hr: 0.000106, 3 hr: 0.000097, 4 hr: 0.000055\n",
      "./output/80-50-20-170\\RMI_2022_07_02_05_07_40_161989_model.pkl final:9.629E-07 \n",
      "\t20 min: 0.002091, 40 min: 0.002091, 1 hr: 0.001972, 2 hr: 0.000105, 3 hr: 0.000098, 4 hr: 0.000060\n",
      "./output/80-50-20-170\\RMI_2022_07_02_05_07_40_162312_model.pkl final:7.096E-07 \n",
      "\t20 min: 0.002090, 40 min: 0.002090, 1 hr: 0.001200, 2 hr: 0.000105, 3 hr: 0.000099, 4 hr: 0.000077\n",
      "./output/80-50-20-170\\RMI_2022_07_02_05_07_40_162546_model.pkl final:8.912E-07 \n",
      "\t20 min: 0.002159, 40 min: 0.002159, 1 hr: 0.002001, 2 hr: 0.000105, 3 hr: 0.000097, 4 hr: 0.000072\n",
      "./output/80-50-20-170\\RMI_2022_07_02_05_07_40_162944_model.pkl final:6.556E-07 \n",
      "\t20 min: 0.002312, 40 min: 0.002312, 1 hr: 0.001760, 2 hr: 0.000106, 3 hr: 0.000098, 4 hr: 0.000068\n"
     ]
    }
   ],
   "source": [
    "# example code to explore good heuristic thresholds for how low the error should be each time we check during training\n",
    "flist = glob.glob(\"./%s/*.pkl\" % foldername)\n",
    "\n",
    "for j in flist:\n",
    "    try:\n",
    "        with open(j, 'rb') as f:\n",
    "            params = pickle.load(f, encoding='latin1')            \n",
    "    except:\n",
    "        print(\"Couldn't open %s\" % j)\n",
    "        continue\n",
    "    minVal = params['minTest']\n",
    "    if minVal < .000009: # or compare to some \"average\" trial so far? \n",
    "        print(\"%s final:%.3E \\n\\t20 min: %.6f, 40 min: %.6f, 1 hr: %.6f, 2 hr: %.6f, 3 hr: %.6f, 4 hr: %.6f\" % (j, minVal, params['been20min'], params['been40min'], params['been1hr'], params['been2hr'], params['been3hr'], params['been4hr']))"
   ]
  },
  {
   "cell_type": "code",
   "execution_count": 16,
   "metadata": {},
   "outputs": [
    {
     "name": "stderr",
     "output_type": "stream",
     "text": [
      "C:\\Users\\gibson48\\AppData\\Local\\Temp\\ipykernel_38192\\3048294210.py:54: RuntimeWarning: divide by zero encountered in log10\n",
      "  ax[3,1].scatter(np.log10(param_array[:,7]), param_array[:,9], alpha=0.1)\n",
      "C:\\Users\\gibson48\\AppData\\Local\\Temp\\ipykernel_38192\\3048294210.py:65: RuntimeWarning: divide by zero encountered in log10\n",
      "  ax[3,3].scatter(np.log10(param_array[:,7]), np.log10(param_array[:,8]), alpha=0.1)\n",
      "C:\\Users\\gibson48\\AppData\\Local\\Temp\\ipykernel_38192\\3048294210.py:75: RuntimeWarning: divide by zero encountered in log10\n",
      "  ax[3,5].scatter(np.log10(param_array[bestInd,7]), np.log10(param_array[bestInd,8]), alpha=0.1)\n"
     ]
    },
    {
     "data": {
      "image/png": "[encoded data removed]",
      "text/plain": [
       "<Figure size 1152x576 with 24 Axes>"
      ]
     },
     "metadata": {
      "needs_background": "light"
     },
     "output_type": "display_data"
    }
   ],
   "source": [
    "# one way to create some plots to compare hyperparameters and validation error\n",
    "flist = glob.glob(\"./RMI_exp/*.pkl\")\n",
    "\n",
    "param_array = np.zeros((len(flist), 10))\n",
    "count = 0\n",
    "for j in flist:\n",
    "    with open(j, 'rb') as f:\n",
    "        params = pickle.load(f, encoding='latin1')\n",
    "        param_array[count, 0] = params['d']\n",
    "        wo = params['hidden_widths_omega'][0]\n",
    "        param_array[count, 1] = wo\n",
    "        param_array[count, 2] = len(params['hidden_widths_omega'])\n",
    "        w = params['widths'][1]\n",
    "        param_array[count, 3] = w\n",
    "        param_array[count, 4] = params['batch_size']\n",
    "        param_array[count, 5] = params['L2_lam']\n",
    "        param_array[count, 6] = params['Linf_lam']\n",
    "        param_array[count, 7] = params['L1_lam']\n",
    "        param_array[count, 8] = params['minTest']\n",
    "    try:\n",
    "        sc = params['stop_condition']\n",
    "        if sc != 'too slowly improving in first 5 min':\n",
    "            # these ones ran for more than 5 minutes\n",
    "            param_array[count, 9] = 1\n",
    "    except KeyError:\n",
    "        # also ran for a while\n",
    "        param_array[count, 9] = 1 \n",
    "    count += 1\n",
    "\n",
    "bestErr = np.nanmin(param_array[:,8])\n",
    "bestInd = np.nonzero(param_array[:,8] < 5*bestErr)\n",
    "    \n",
    "f, ax = plt.subplots(4,6)\n",
    "f.set_figwidth(16)\n",
    "f.set_figheight(8)\n",
    "\n",
    "# first two columns: compare the hyperparameters that meant training quit after 5 minutes (param_array[:, 9] = 0)\n",
    "# versus the ones that made it past that first threshold (param_array[:, 9] = 1)\n",
    "# might suggest some very bad hyperparameter settings\n",
    "ax[0,0].scatter(param_array[:,0], param_array[:,9], alpha=0.1)\n",
    "ax[0,0].set_xlabel('depth')\n",
    "ax[0,1].scatter(param_array[:,1], param_array[:,9], alpha=0.1)\n",
    "ax[0,1].set_xlabel('width omega')\n",
    "ax[1,0].scatter(param_array[:,2], param_array[:,9], alpha=0.1)\n",
    "ax[1,0].set_xlabel('# HL omega')\n",
    "ax[1,1].scatter(param_array[:,3], param_array[:,9], alpha=0.1)\n",
    "ax[1,1].set_xlabel('width')\n",
    "ax[2,0].scatter(param_array[:,4], param_array[:,9], alpha=0.1)\n",
    "ax[2,0].set_xlabel('batch size')\n",
    "ax[2,1].scatter(np.log10(param_array[:,5]), param_array[:,9], alpha=0.1)\n",
    "ax[2,1].set_xlabel('l2')\n",
    "ax[3,0].scatter(np.log10(param_array[:,6]), param_array[:,9], alpha=0.1)\n",
    "ax[3,0].set_xlabel('l_inf')\n",
    "ax[3,1].scatter(np.log10(param_array[:,7]), param_array[:,9], alpha=0.1)\n",
    "ax[3,1].set_xlabel('l1')\n",
    "\n",
    "# next two columns: look for patterns between validation error and hyperparameter choices\n",
    "ax[0,2].scatter(param_array[:,0], np.log10(param_array[:,8]), alpha=0.1)\n",
    "ax[0,3].scatter(param_array[:,1], np.log10(param_array[:,8]), alpha=0.1)\n",
    "ax[1,2].scatter(param_array[:,2], np.log10(param_array[:,8]), alpha=0.1)\n",
    "ax[1,3].scatter(param_array[:,3], np.log10(param_array[:,8]), alpha=0.1)\n",
    "ax[2,2].scatter(param_array[:,4], np.log10(param_array[:,8]), alpha=0.1)\n",
    "ax[2,3].scatter(np.log10(param_array[:,5]), np.log10(param_array[:,8]), alpha=0.1)\n",
    "ax[3,2].scatter(np.log10(param_array[:,6]), np.log10(param_array[:,8]), alpha=0.1)\n",
    "ax[3,3].scatter(np.log10(param_array[:,7]), np.log10(param_array[:,8]), alpha=0.1)\n",
    "\n",
    "# final two columns: look for patterns just among the very best runs\n",
    "ax[0,4].scatter(param_array[bestInd,0], np.log10(param_array[bestInd,8]), alpha=0.1)\n",
    "ax[0,5].scatter(param_array[bestInd,1], np.log10(param_array[bestInd,8]), alpha=0.1)\n",
    "ax[1,4].scatter(param_array[bestInd,2], np.log10(param_array[bestInd,8]), alpha=0.1)\n",
    "ax[1,5].scatter(param_array[bestInd,3], np.log10(param_array[bestInd,8]), alpha=0.1)\n",
    "ax[2,4].scatter(param_array[bestInd,4], np.log10(param_array[bestInd,8]), alpha=0.1)\n",
    "ax[2,5].scatter(np.log10(param_array[bestInd,5]), np.log10(param_array[bestInd,8]), alpha=0.1)\n",
    "ax[3,4].scatter(np.log10(param_array[bestInd,6]), np.log10(param_array[bestInd,8]), alpha=0.1)\n",
    "ax[3,5].scatter(np.log10(param_array[bestInd,7]), np.log10(param_array[bestInd,8]), alpha=0.1)\n",
    "\n",
    "f.subplots_adjust(hspace=0.6)"
   ]
  },
  {
   "cell_type": "code",
   "execution_count": null,
   "metadata": {},
   "outputs": [],
   "source": []
  }
 ],
 "metadata": {
  "kernelspec": {
   "display_name": "Python 3 (ipykernel)",
   "language": "python",
   "name": "python3"
  },
  "language_info": {
   "codemirror_mode": {
    "name": "ipython",
    "version": 3
   },
   "file_extension": ".py",
   "mimetype": "text/x-python",
   "name": "python",
   "nbconvert_exporter": "python",
   "pygments_lexer": "ipython3",
   "version": "3.10.5"
  }
 },
 "nbformat": 4,
 "nbformat_minor": 4
}
